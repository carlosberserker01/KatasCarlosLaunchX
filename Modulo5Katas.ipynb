{
 "cells": [
  {
   "cell_type": "markdown",
   "metadata": {},
   "source": [
    "Ejercicio 1"
   ]
  },
  {
   "cell_type": "code",
   "execution_count": 33,
   "metadata": {},
   "outputs": [],
   "source": [
    "dTierra = 149597870\n",
    "dJupiter = 778547200"
   ]
  },
  {
   "cell_type": "code",
   "execution_count": 34,
   "metadata": {},
   "outputs": [
    {
     "name": "stdout",
     "output_type": "stream",
     "text": [
      "La distancia en kilometros es de: 628949330\n",
      "La distancia en millas es de: 390577534\n"
     ]
    }
   ],
   "source": [
    "distancia = (abs(dJupiter - dTierra))\n",
    "distanciaMillas = round(distancia * 0.621)\n",
    "print(\"La distancia en kilometros es de: \" + str(distancia))\n",
    "print(\"La distancia en millas es de: \" + str(distanciaMillas))"
   ]
  },
  {
   "cell_type": "markdown",
   "metadata": {},
   "source": [
    "Ejercicio 2"
   ]
  },
  {
   "cell_type": "code",
   "execution_count": 35,
   "metadata": {},
   "outputs": [
    {
     "name": "stdout",
     "output_type": "stream",
     "text": [
      "La distancia en kilometros es de: 50\n",
      "La distancia en millas es de: 31\n"
     ]
    }
   ],
   "source": [
    "planeta1 = int(input(\"Cual es la distancia del primer planeta con respecto al Sol?\"))\n",
    "planeta2 = int(input(\"Cual es la distancia del segundo planeta con respecto al Sol?\"))\n",
    "distancia = abs(planeta1 - planeta2)\n",
    "distanciaMillas = round(distancia * 0.621)\n",
    "print(\"La distancia en kilometros es de: \" + str(distancia))\n",
    "print(\"La distancia en millas es de: \" + str(distanciaMillas))"
   ]
  }
 ],
 "metadata": {
  "interpreter": {
   "hash": "89eb92db04b58fa974d90a693bec24124bbe12fd14a7d14dfdf3d1e2ac1c6abf"
  },
  "kernelspec": {
   "display_name": "Python 3.10.2 64-bit (windows store)",
   "language": "python",
   "name": "python3"
  },
  "language_info": {
   "codemirror_mode": {
    "name": "ipython",
    "version": 3
   },
   "file_extension": ".py",
   "mimetype": "text/x-python",
   "name": "python",
   "nbconvert_exporter": "python",
   "pygments_lexer": "ipython3",
   "version": "3.10.2"
  },
  "orig_nbformat": 4
 },
 "nbformat": 4,
 "nbformat_minor": 2
}
