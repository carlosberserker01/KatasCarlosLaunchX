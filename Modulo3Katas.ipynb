{
 "cells": [
  {
   "cell_type": "code",
   "execution_count": 38,
   "metadata": {},
   "outputs": [
    {
     "name": "stdout",
     "output_type": "stream",
     "text": [
      "ADVERTENCIA! Asteroide demasiado cerca\n"
     ]
    }
   ],
   "source": [
    "velAst = 49\n",
    "if (velAst > 25):\n",
    "    print(\"ADVERTENCIA! Asteroide demasiado cerca\")\n",
    "else:\n",
    "    print(\"No hay peligro\")"
   ]
  },
  {
   "cell_type": "code",
   "execution_count": 39,
   "metadata": {},
   "outputs": [
    {
     "name": "stdout",
     "output_type": "stream",
     "text": [
      "No hay rayo de luz visible\n"
     ]
    }
   ],
   "source": [
    "velAst = 19\n",
    "if(velAst >= 20):\n",
    "    print(\"Rayo de luz visible\")\n",
    "elif(velAst < 20):\n",
    "    print(\"No hay rayo de luz visible\")\n",
    "else:\n",
    "    (\"Sin asteroide\")"
   ]
  },
  {
   "cell_type": "code",
   "execution_count": 40,
   "metadata": {},
   "outputs": [
    {
     "name": "stdout",
     "output_type": "stream",
     "text": [
      "Asteroide de mas de 1000 metros en su dimension mas grande\n",
      "Rayo de luz visible\n",
      "ADVERTENCIA! Asteroide demasiado cerca\n"
     ]
    }
   ],
   "source": [
    "velAst = 500\n",
    "dimAst = 1000\n",
    "\n",
    "if(dimAst > 25 and dimAst < 1000):\n",
    "    print(\"Asteroide impactara la Tierra\")\n",
    "    if(velAst > 25):\n",
    "        print(\"Rayo de luz visible\")\n",
    "        print(\"ADVERTENCIA! Asteroide demasiado cerca\")\n",
    "    elif(velAst > 20):\n",
    "        print(\"Rayo de luz visible\")\n",
    "        print(\"No hay peligro\")\n",
    "    else:\n",
    "        print(\"No hay rayo de luz visible\")\n",
    "        print(\"No hay peligro\")\n",
    "\n",
    "elif(dimAst <= 25):\n",
    "    print(\"Asteroide se desintegrara en la atmosfera de la Tierra\")\n",
    "    if(velAst > 25):\n",
    "        print(\"Rayo de luz visible\")\n",
    "        print(\"ADVERTENCIA! Asteroide demasiado cerca\")\n",
    "    elif(velAst > 20):\n",
    "        print(\"Rayo de luz visible\")\n",
    "        print(\"No hay peligro\")\n",
    "    else:\n",
    "        print(\"No hay rayo de luz visible\")\n",
    "        print(\"No hay peligro\")\n",
    "else:\n",
    "    print(\"Asteroide de mas de 1000 metros en su dimension mas grande\")\n",
    "    if(velAst > 25):\n",
    "        print(\"Rayo de luz visible\")\n",
    "        print(\"ADVERTENCIA! Asteroide demasiado cerca\")\n",
    "    elif(velAst > 20):\n",
    "        print(\"Rayo de luz visible\")\n",
    "        print(\"No hay peligro\")\n",
    "    else:\n",
    "        print(\"No hay rayo de luz visible\")\n",
    "        print(\"No hay peligro\")"
   ]
  }
 ],
 "metadata": {
  "interpreter": {
   "hash": "71be35f8d79f35bc1a881f710317339f5e9a4227b7ef3f2c82c2ce889b28139c"
  },
  "kernelspec": {
   "display_name": "Python 3.10.2 64-bit",
   "language": "python",
   "name": "python3"
  },
  "language_info": {
   "codemirror_mode": {
    "name": "ipython",
    "version": 3
   },
   "file_extension": ".py",
   "mimetype": "text/x-python",
   "name": "python",
   "nbconvert_exporter": "python",
   "pygments_lexer": "ipython3",
   "version": "3.10.2"
  },
  "orig_nbformat": 4
 },
 "nbformat": 4,
 "nbformat_minor": 2
}
