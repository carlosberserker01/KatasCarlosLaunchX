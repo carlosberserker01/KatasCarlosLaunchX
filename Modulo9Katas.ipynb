{
 "cells": [
  {
   "cell_type": "markdown",
   "metadata": {},
   "source": [
    "Ejercicio 1"
   ]
  },
  {
   "cell_type": "code",
   "execution_count": 120,
   "metadata": {},
   "outputs": [
    {
     "name": "stdout",
     "output_type": "stream",
     "text": [
      "La lectura de los combustibles son: 5, 7 y 8\n"
     ]
    }
   ],
   "source": [
    "def informe(c1, c2, c3):\n",
    "    return (f'La lectura de los combustibles son: {c1}, {c2} y {c3}')\n",
    "    return promedio[c1, c2, c3]\n",
    "\n",
    "print(informe(5,7,8))\n"
   ]
  },
  {
   "cell_type": "code",
   "execution_count": 121,
   "metadata": {},
   "outputs": [
    {
     "data": {
      "text/plain": [
       "5.0"
      ]
     },
     "execution_count": 121,
     "metadata": {},
     "output_type": "execute_result"
    }
   ],
   "source": [
    "def promedio(valores):\n",
    "    total = sum(valores)\n",
    "    longitud = len(valores)\n",
    "    return total / longitud \n",
    "\n",
    "promedio([5, 5, 5])"
   ]
  },
  {
   "cell_type": "code",
   "execution_count": 122,
   "metadata": {},
   "outputs": [
    {
     "name": "stdout",
     "output_type": "stream",
     "text": [
      "La lectura de los combustibles son: 5, 7 y 8 y su promedio es: 6.666666666666667\n"
     ]
    }
   ],
   "source": [
    "def informe(c1, c2, c3):\n",
    "    return (f'La lectura de los combustibles son: {c1}, {c2} y {c3} y su promedio es: {promedio([c1, c2, c3])}')\n",
    "\n",
    "print(informe(5,7,8))"
   ]
  },
  {
   "cell_type": "markdown",
   "metadata": {},
   "source": [
    "Ejercicio 2"
   ]
  },
  {
   "cell_type": "code",
   "execution_count": 123,
   "metadata": {},
   "outputs": [
    {
     "data": {
      "text/plain": [
       "'Mission to: Marte, Total travel time: 18 minutes, Total fuel left: 200 gallons'"
      ]
     },
     "execution_count": 123,
     "metadata": {},
     "output_type": "execute_result"
    }
   ],
   "source": [
    "def informePreciso(horaPreLan, tiempoVuelo, destino, tanqueExt, tanqueInt):\n",
    "    return (f'Mission to: {destino}, Total travel time: {horaPreLan + tiempoVuelo} minutes, Total fuel left: {tanqueExt + tanqueInt} gallons')\n",
    "\n",
    "informePreciso(3, 15, \"Marte\", 100, 100)"
   ]
  },
  {
   "cell_type": "code",
   "execution_count": 124,
   "metadata": {},
   "outputs": [
    {
     "name": "stdout",
     "output_type": "stream",
     "text": [
      "Mission to: Marte, Total travel time: 100 minutes, Total fuel left: 50000\n"
     ]
    }
   ],
   "source": [
    "def informePreciso(destino, *minutes, **reservas):\n",
    "    return (f'Mission to: {destino}, Total travel time: {sum(minutes)} minutes, Total fuel left: {sum(reservas.values())}')\n",
    "print(informePreciso(\"Marte\", 20, 35, 45, main=30000, external=20000))"
   ]
  },
  {
   "cell_type": "code",
   "execution_count": 125,
   "metadata": {},
   "outputs": [
    {
     "name": "stdout",
     "output_type": "stream",
     "text": [
      "Mission to: Marte, Total travel time: 100 minutes, Total fuel left: 50000, main tank --> 30000 gallons left\n",
      "external tank --> 20000 gallons left\n",
      "\n"
     ]
    }
   ],
   "source": [
    "def informePreciso(destino, *minutes, **reservas):\n",
    "    reportePrincipal = (f'Mission to: {destino}, Total travel time: {sum(minutes)} minutes, Total fuel left: {sum(reservas.values())}, ')\n",
    "    for tanque, galones in reservas.items():\n",
    "        reportePrincipal += f\"{tanque} tank --> {galones} gallons left\\n\"\n",
    "    return reportePrincipal\n",
    "\n",
    "print(informePreciso(\"Marte\", 20, 35, 45, main=30000, external=20000))"
   ]
  }
 ],
 "metadata": {
  "interpreter": {
   "hash": "89eb92db04b58fa974d90a693bec24124bbe12fd14a7d14dfdf3d1e2ac1c6abf"
  },
  "kernelspec": {
   "display_name": "Python 3.10.2 64-bit (windows store)",
   "language": "python",
   "name": "python3"
  },
  "language_info": {
   "codemirror_mode": {
    "name": "ipython",
    "version": 3
   },
   "file_extension": ".py",
   "mimetype": "text/x-python",
   "name": "python",
   "nbconvert_exporter": "python",
   "pygments_lexer": "ipython3",
   "version": "3.10.2"
  },
  "orig_nbformat": 4
 },
 "nbformat": 4,
 "nbformat_minor": 2
}
